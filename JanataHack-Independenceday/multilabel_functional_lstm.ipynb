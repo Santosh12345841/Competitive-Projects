{
  "nbformat": 4,
  "nbformat_minor": 0,
  "metadata": {
    "colab": {
      "name": "multilabel_functional_lstm.ipynb",
      "provenance": []
    },
    "kernelspec": {
      "name": "python3",
      "display_name": "Python 3"
    },
    "accelerator": "GPU"
  },
  "cells": [
    {
      "cell_type": "code",
      "metadata": {
        "id": "fqn95LUEhItq",
        "colab_type": "code",
        "colab": {
          "base_uri": "https://localhost:8080/",
          "height": 34
        },
        "outputId": "b1f8fe84-a985-4c4e-c1c7-87adfe6b2c6e"
      },
      "source": [
        "%tensorflow_version 2.x\n",
        "import tensorflow as tf\n",
        "device_name = tf.test.gpu_device_name()\n",
        "if device_name != '/device:GPU:0':\n",
        "  raise SystemError('GPU device not found')\n",
        "print('Found GPU at: {}'.format(device_name))"
      ],
      "execution_count": null,
      "outputs": [
        {
          "output_type": "stream",
          "text": [
            "Found GPU at: /device:GPU:0\n"
          ],
          "name": "stdout"
        }
      ]
    },
    {
      "cell_type": "code",
      "metadata": {
        "id": "ELOP5YPuR7u6",
        "colab_type": "code",
        "colab": {
          "base_uri": "https://localhost:8080/",
          "height": 71
        },
        "outputId": "816b0696-c1f7-4e62-f3f4-368ebbc5eb0e"
      },
      "source": [
        "import numpy as np\n",
        "import pandas as pd\n",
        "import matplotlib.pyplot as plt\n",
        "import seaborn as sns\n",
        "import tensorflow as tf\n",
        "from tensorflow.keras.layers import Embedding\n",
        "from tensorflow.keras.preprocessing.sequence import pad_sequences\n",
        "from tensorflow.keras.models import Sequential\n",
        "from tensorflow.keras.preprocessing.text import one_hot\n",
        "from tensorflow.keras.layers import LSTM\n",
        "from tensorflow.keras.layers import Dense"
      ],
      "execution_count": null,
      "outputs": [
        {
          "output_type": "stream",
          "text": [
            "/usr/local/lib/python3.6/dist-packages/statsmodels/tools/_testing.py:19: FutureWarning: pandas.util.testing is deprecated. Use the functions in the public API at pandas.testing instead.\n",
            "  import pandas.util.testing as tm\n"
          ],
          "name": "stderr"
        }
      ]
    },
    {
      "cell_type": "code",
      "metadata": {
        "id": "zMGRkxQ8SKkq",
        "colab_type": "code",
        "colab": {}
      },
      "source": [
        "dl_tr = pd.read_csv('//content/drive/My Drive/train.csv')\n",
        "dl_te = pd.read_csv('//content/drive/My Drive/test.csv')"
      ],
      "execution_count": null,
      "outputs": []
    },
    {
      "cell_type": "code",
      "metadata": {
        "id": "KAC6VEUuSkgw",
        "colab_type": "code",
        "colab": {
          "base_uri": "https://localhost:8080/",
          "height": 68
        },
        "outputId": "a383fe48-13c4-47b3-968c-b2918ad1b9cc"
      },
      "source": [
        "import nltk\n",
        "dl_tr = dl_tr.drop(columns = 'ID')\n",
        "dl_te = dl_te.drop(columns = 'ID')\n",
        "import nltk\n",
        "import re\n",
        "from nltk.corpus import stopwords\n",
        "dl_tr.select_dtypes(int).columns"
      ],
      "execution_count": null,
      "outputs": [
        {
          "output_type": "execute_result",
          "data": {
            "text/plain": [
              "Index(['Computer Science', 'Physics', 'Mathematics', 'Statistics',\n",
              "       'Quantitative Biology', 'Quantitative Finance'],\n",
              "      dtype='object')"
            ]
          },
          "metadata": {
            "tags": []
          },
          "execution_count": 5
        }
      ]
    },
    {
      "cell_type": "code",
      "metadata": {
        "id": "7LuuFNwzS8I4",
        "colab_type": "code",
        "colab": {}
      },
      "source": [
        "a = dl_tr['TITLE'].map(lambda x:re.sub('[^ζωσμπδαβγχλκτεψηξφθν]',' ',x)).map(lambda x:''.join(x.split())).replace('',np.nan).notnull().astype(int)\n",
        "\n",
        "b = dl_tr['TITLE'].map(lambda x:re.sub('[^$]',' ',x)).map(lambda x:''.join(x.split())).replace('',np.nan).notnull().astype(int)\n",
        "\n",
        "c = dl_tr['TITLE'].map(lambda x:re.sub('[^+=*/><%]',' ',x)).map(lambda x:''.join(x.split())).replace('',np.nan).notnull().astype(int)\n",
        "\n",
        "d = dl_tr['TITLE'].map(lambda x:re.sub('[^{}]',' ',x)).map(lambda x:''.join(x.split())).replace('',np.nan).notnull().astype(int)\n",
        "\n",
        "e = dl_tr['ABSTRACT'].map(lambda x:re.sub('[^$]',' ',x)).map(lambda x:''.join(x.split())).replace('',np.nan).notnull().astype(int)\n",
        "\n",
        "f = dl_tr['ABSTRACT'].map(lambda x:re.sub('[^+=*/><%]',' ',x)).map(lambda x:''.join(x.split())).replace('',np.nan).notnull().astype(int)\n",
        "\n",
        "g = dl_tr['ABSTRACT'].map(lambda x:re.sub('[^{}]',' ',x)).map(lambda x:''.join(x.split())).replace('',np.nan).notnull().astype(int)\n",
        "\n"
      ],
      "execution_count": null,
      "outputs": []
    },
    {
      "cell_type": "code",
      "metadata": {
        "id": "SHM2yzK_Tf9i",
        "colab_type": "code",
        "colab": {
          "base_uri": "https://localhost:8080/",
          "height": 102
        },
        "outputId": "c1341a01-7a37-48dd-fad1-057783350487"
      },
      "source": [
        " nltk.download('stopwords')\n",
        " nltk.download('wordnet')"
      ],
      "execution_count": null,
      "outputs": [
        {
          "output_type": "stream",
          "text": [
            "[nltk_data] Downloading package stopwords to /root/nltk_data...\n",
            "[nltk_data]   Unzipping corpora/stopwords.zip.\n",
            "[nltk_data] Downloading package wordnet to /root/nltk_data...\n",
            "[nltk_data]   Unzipping corpora/wordnet.zip.\n"
          ],
          "name": "stdout"
        },
        {
          "output_type": "execute_result",
          "data": {
            "text/plain": [
              "True"
            ]
          },
          "metadata": {
            "tags": []
          },
          "execution_count": 7
        }
      ]
    },
    {
      "cell_type": "code",
      "metadata": {
        "id": "vreLxObYTMbW",
        "colab_type": "code",
        "colab": {}
      },
      "source": [
        "from nltk.stem.porter import PorterStemmer\n",
        "from nltk.stem import WordNetLemmatizer\n",
        "ps = WordNetLemmatizer()\n",
        "corpus = []\n",
        "morpus = []\n",
        "for i in range(0, len(dl_tr)):\n",
        "    review = ' '.join([ps.lemmatize(word) for word in  re.sub('[^a-zA-Z]', ' ', dl_tr['TITLE'][i]).lower().split() if not word in stopwords.words('english')])\n",
        "    review1 = ' '.join([ps.lemmatize(word) for word in  re.sub('[^a-zA-Z]', ' ', dl_tr['ABSTRACT'][i]).lower().split() if not word in stopwords.words('english')])\n",
        "    corpus.append(review)\n",
        "    morpus.append(review1)"
      ],
      "execution_count": null,
      "outputs": []
    },
    {
      "cell_type": "code",
      "metadata": {
        "id": "fkx1EzxwTRhQ",
        "colab_type": "code",
        "colab": {}
      },
      "source": [
        "voc_size = 5000\n",
        "corpus_1 =[one_hot(words,voc_size)for words in corpus] \n",
        "morpus_1 = [one_hot(words,voc_size)for words in morpus] "
      ],
      "execution_count": null,
      "outputs": []
    },
    {
      "cell_type": "code",
      "metadata": {
        "id": "BCYkZmEeUf32",
        "colab_type": "code",
        "colab": {
          "base_uri": "https://localhost:8080/",
          "height": 153
        },
        "outputId": "aa8dbe4e-deae-4074-b398-90f24d398e27"
      },
      "source": [
        "sent_length_1 = 27\n",
        "sent_length_2 = 200\n",
        "embedded_docs_1=pad_sequences(corpus_1,padding='pre',maxlen=sent_length_1)\n",
        "embedded_docs_2=pad_sequences(morpus_1,padding='pre',maxlen=sent_length_2)\n",
        "print(embedded_docs_2)\n",
        "print(embedded_docs_2.shape)"
      ],
      "execution_count": null,
      "outputs": [
        {
          "output_type": "stream",
          "text": [
            "[[   0    0    0 ... 2788 1397 2141]\n",
            " [   0    0    0 ... 1896 1520 2459]\n",
            " [   0    0    0 ... 3788 1115 4538]\n",
            " ...\n",
            " [   0    0    0 ...  191  546 3335]\n",
            " [   0    0    0 ... 1720 1510 3870]\n",
            " [   0    0    0 ... 1394 4158 1260]]\n",
            "(20972, 200)\n"
          ],
          "name": "stdout"
        }
      ]
    },
    {
      "cell_type": "code",
      "metadata": {
        "id": "q480nSJEUpdF",
        "colab_type": "code",
        "colab": {}
      },
      "source": [
        "add_1 = np.array(pd.DataFrame([a,b,c,d]).T)\n",
        "add_2 = np.array(pd.DataFrame([e,f,g]).T)"
      ],
      "execution_count": null,
      "outputs": []
    },
    {
      "cell_type": "code",
      "metadata": {
        "id": "k9PfwhfxUrO5",
        "colab_type": "code",
        "colab": {}
      },
      "source": [
        "embedding_vector_features_1 = 50\n",
        "embedding_vector_features_2 = 50"
      ],
      "execution_count": null,
      "outputs": []
    },
    {
      "cell_type": "code",
      "metadata": {
        "id": "-LtqkLOBUtBJ",
        "colab_type": "code",
        "colab": {}
      },
      "source": [
        "import keras\n",
        "from keras.models import Model\n",
        "from keras.layers import Concatenate\n",
        "from keras.layers import Activation\n",
        "from keras.layers import Bidirectional, GlobalMaxPool1D\n",
        "from keras.layers import Dropout\n",
        "\n",
        "input1 = keras.Input(shape=(sent_length_1,))\n",
        "embed1 = Embedding(voc_size, embedding_vector_features_1, input_length= sent_length_1 )(input1)\n",
        "drop_a = Dropout(0.1)(embed1)\n",
        "lstm1 = LSTM(100)(drop_a)\n",
        "drop_b = Dropout(0.2)(lstm1)\n",
        "key1 = keras.Input(shape=(4,))\n",
        "kala1 = Dense(3,activation= 'relu')(key1)\n",
        "conc1 = Concatenate(axis = 1)([drop_b,kala1])\n",
        "\n",
        "input2 = keras.Input(shape=(sent_length_2,))\n",
        "embed2 = Embedding(voc_size, embedding_vector_features_2, input_length= sent_length_2 )(input2)\n",
        "drop_c = Dropout(0.1)(embed2)\n",
        "lstm2 = LSTM(100)(drop_c)\n",
        "drop_d = Dropout(0.2)(lstm2)\n",
        "key2 = keras.Input(shape=(3,))\n",
        "kala2 = Dense(3,activation= 'relu')(key2)\n",
        "conc2 = Concatenate(axis = 1)([drop_d,kala2])\n",
        "\n",
        "all_mix = Concatenate(axis = 1)([conc1,conc2])\n",
        "dens = Dense(6,activation = 'sigmoid')(all_mix)\n",
        "model = Model(inputs = [input1, key1 , input2 , key2],outputs = dens)\n",
        "model.compile(loss= 'binary_crossentropy', optimizer='adam', metrics = ['accuracy','AUC'])"
      ],
      "execution_count": null,
      "outputs": []
    },
    {
      "cell_type": "code",
      "metadata": {
        "id": "9uBdjyJhYJl1",
        "colab_type": "code",
        "colab": {}
      },
      "source": [
        "import numpy as np\n",
        "X_final_1= np.array(embedded_docs_1)\n",
        "X_final_2 = np.array(embedded_docs_2)\n",
        "y_final=np.array(dl_tr.select_dtypes(int))"
      ],
      "execution_count": null,
      "outputs": []
    },
    {
      "cell_type": "code",
      "metadata": {
        "id": "ARonvTomYiGA",
        "colab_type": "code",
        "colab": {}
      },
      "source": [
        "mixi_1 = np.concatenate([X_final_1,add_1], axis = 1)\n",
        "mixi_2 =  np.concatenate([X_final_2,add_2], axis = 1)\n",
        "fruit = np.concatenate([mixi_1,mixi_2], axis = 1)"
      ],
      "execution_count": null,
      "outputs": []
    },
    {
      "cell_type": "code",
      "metadata": {
        "id": "-8XYrfGqYlBE",
        "colab_type": "code",
        "colab": {}
      },
      "source": [
        "from sklearn.model_selection import train_test_split\n",
        "X_train, X_test, y_train, y_test = train_test_split(fruit, y_final, test_size=0.10, random_state= 100)"
      ],
      "execution_count": null,
      "outputs": []
    },
    {
      "cell_type": "code",
      "metadata": {
        "id": "JYMGBzRLYnhj",
        "colab_type": "code",
        "colab": {}
      },
      "source": [
        "one = X_train[:,:27]\n",
        "two = X_train[:,27:27+4]\n",
        "three = X_train[:,27+4:27+4+sent_length_2]\n",
        "four = X_train[:,27+4+sent_length_2:27+4+sent_length_2+3]\n",
        "\n",
        "one_1 = X_test[:,:27]\n",
        "two_1 = X_test[:,27:27+4]\n",
        "three_1 = X_test[:,27+4:27+4+sent_length_2]\n",
        "four_1 = X_test[:,27+4+sent_length_2:27+4+sent_length_2+3]\n"
      ],
      "execution_count": null,
      "outputs": []
    },
    {
      "cell_type": "code",
      "metadata": {
        "id": "9kUsgSTTYpE7",
        "colab_type": "code",
        "colab": {
          "base_uri": "https://localhost:8080/",
          "height": 105
        },
        "outputId": "7198f5e7-1e50-4303-b3d4-339a7444c90a"
      },
      "source": [
        "with tf.device(\"/gpu:0\"): \n",
        "  model.fit([one,two,three,four],y_train, validation_data=([one_1,two_1,three_1,four_1],y_test),epochs = 2,batch_size= 32 , verbose = 1)"
      ],
      "execution_count": null,
      "outputs": [
        {
          "output_type": "stream",
          "text": [
            "Epoch 1/2\n",
            "590/590 [==============================] - 41s 69ms/step - loss: 0.3045 - accuracy: 0.6796 - auc: 0.9006 - val_loss: 0.2315 - val_accuracy: 0.7092 - val_auc: 0.9457\n",
            "Epoch 2/2\n",
            "590/590 [==============================] - 40s 67ms/step - loss: 0.2048 - accuracy: 0.7677 - auc: 0.9564 - val_loss: 0.2112 - val_accuracy: 0.7550 - val_auc: 0.9554\n"
          ],
          "name": "stdout"
        }
      ]
    },
    {
      "cell_type": "code",
      "metadata": {
        "id": "1KV_wuf6cJPB",
        "colab_type": "code",
        "colab": {}
      },
      "source": [
        "out_1 = pd.DataFrame(model.predict([one_1,two_1,three_1,four_1]))"
      ],
      "execution_count": null,
      "outputs": []
    },
    {
      "cell_type": "code",
      "metadata": {
        "id": "_H4fuUsgcyOl",
        "colab_type": "code",
        "colab": {}
      },
      "source": [
        "out_2 = out_1.apply(lambda x:x.map(lambda y:0 if y < 0.5 else 1))"
      ],
      "execution_count": null,
      "outputs": []
    },
    {
      "cell_type": "code",
      "metadata": {
        "id": "TiaMfVVWdU9L",
        "colab_type": "code",
        "colab": {
          "base_uri": "https://localhost:8080/",
          "height": 34
        },
        "outputId": "678da24c-73f4-4dab-d891-70b790dfbaee"
      },
      "source": [
        "from sklearn.metrics import f1_score\n",
        "f1_score(y_test,out_2, average= 'micro')"
      ],
      "execution_count": null,
      "outputs": [
        {
          "output_type": "execute_result",
          "data": {
            "text/plain": [
              "0.7876899104012466"
            ]
          },
          "metadata": {
            "tags": []
          },
          "execution_count": 50
        }
      ]
    },
    {
      "cell_type": "code",
      "metadata": {
        "id": "AygVplLDda5I",
        "colab_type": "code",
        "colab": {}
      },
      "source": [
        "# SHOULD PREDICT ON THE TEST DATA AFTER PERFORMING NECESSARY TRANSFROMATIONS"
      ],
      "execution_count": null,
      "outputs": []
    },
    {
      "cell_type": "code",
      "metadata": {
        "id": "FzRPq-2C5kKg",
        "colab_type": "code",
        "colab": {}
      },
      "source": [
        ""
      ],
      "execution_count": null,
      "outputs": []
    }
  ]
}
